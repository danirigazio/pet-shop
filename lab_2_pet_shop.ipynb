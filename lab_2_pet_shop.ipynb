{
  "nbformat": 4,
  "nbformat_minor": 0,
  "metadata": {
    "colab": {
      "name": "lab 2 pet shop",
      "provenance": [],
      "collapsed_sections": [],
      "authorship_tag": "ABX9TyO8vlGRJ3vnQF6LKVYDQTe7",
      "include_colab_link": true
    },
    "kernelspec": {
      "name": "python3",
      "display_name": "Python 3"
    }
  },
  "cells": [
    {
      "cell_type": "markdown",
      "metadata": {
        "id": "view-in-github",
        "colab_type": "text"
      },
      "source": [
        "<a href=\"https://colab.research.google.com/github/danirigazio/pet-shop/blob/master/lab_2_pet_shop.ipynb\" target=\"_parent\"><img src=\"https://colab.research.google.com/assets/colab-badge.svg\" alt=\"Open In Colab\"/></a>"
      ]
    },
    {
      "cell_type": "markdown",
      "metadata": {
        "id": "btzA9Nb7qkZH"
      },
      "source": [
        "![diagram pet shop](https://raw.githubusercontent.com/danirigazio/pet-shop/master/Untitled%20Diagram.png?token=AQWTL5YO4YDTOMA7WPJYW3K7PYQ7K)\n"
      ]
    },
    {
      "cell_type": "markdown",
      "metadata": {
        "id": "OvmMwnyDrq9I"
      },
      "source": [
        "The diagram I made represents the daily interactions at a pet shop. There are six entities in this diagram; pets, enclosure, costumers, adoptions, loyalty, and food. These each are pivotal parts of a working pet shop and then are broken down in 4 attributes. Each of this entities include a primary key specific to the uniquness of an entity. Then 4 of my entities contain foriegn keys, which are attributes that are similar or the same as a primary key from another entity. These foreign keys conect the entities in a many to one relationship, extending from the primary key of the original entity to the foreign key of the other. For example, in the entity of \"pet\" the primary key is their ID of the pet, then inside the \"Adoptions\" entity there is a foreign key called pet which both connect in a one to many relationship. This is because the pet foreign key under \"adoption\" is the identifier of what pet from the shop was sold, which is the pet ID in the \"Pets\" entity, but a person can adopt many pets, they just each will have a unique ID."
      ]
    }
  ]
}